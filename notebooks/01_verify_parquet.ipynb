{
 "cells": [
  {
   "cell_type": "markdown",
   "id": "c47b1698-804c-407e-9682-39ffab913f0b",
   "metadata": {},
   "source": [
    "# Forbes 2000 — Parquet Verification\n",
    "\n",
    "Quick checks for:\n",
    "- File existence\n",
    "- Schema & dtypes\n",
    "- Nulls & KPI ranges\n",
    "- Timeseries shape + a sample sparkline\n",
    "- Region tagging & year distribution\n",
    "- URL normalization sanity\n",
    "- Slice stats & topics presence\n",
    "- naturalId cross-checks\n",
    "- Optional CSV snapshots\n"
   ]
  },
  {
   "cell_type": "code",
   "execution_count": 1,
   "id": "64dd9c02-9ee0-41b3-862b-943d1596b833",
   "metadata": {},
   "outputs": [],
   "source": [
    "from pathlib import Path\n",
    "import pandas as pd\n",
    "import numpy as np\n",
    "import matplotlib.pyplot as plt"
   ]
  },
  {
   "cell_type": "code",
   "execution_count": 2,
   "id": "863fd0e8-45cb-4815-9974-2735c1ba5876",
   "metadata": {},
   "outputs": [
    {
     "name": "stdout",
     "output_type": "stream",
     "text": [
      "/Users/vinothhaldorai/Documents/Vinoth/PROJECTS/forbes2000-explorer/notebooks\n"
     ]
    }
   ],
   "source": [
    "CWD = Path().resolve()\n",
    "print(CWD)"
   ]
  },
  {
   "cell_type": "markdown",
   "id": "51bc58d3-ee0d-4b1f-be4f-4ab8c4b6b535",
   "metadata": {},
   "source": [
    "### Verify the country - region mapping"
   ]
  },
  {
   "cell_type": "code",
   "execution_count": 3,
   "id": "e80f2306-2b33-4748-a443-59af282dbe4a",
   "metadata": {},
   "outputs": [
    {
     "name": "stdout",
     "output_type": "stream",
     "text": [
      "/Users/vinothhaldorai/Documents/Vinoth/PROJECTS/forbes2000-explorer/data/meta\n"
     ]
    }
   ],
   "source": [
    "META_DIR = None\n",
    "\n",
    "p = CWD.parent/ \"data\"/ \"meta\"\n",
    "if p.exists():\n",
    "    META_DIR = p\n",
    "\n",
    "print(META_DIR)"
   ]
  },
  {
   "cell_type": "code",
   "execution_count": 4,
   "id": "ce6b82a4-e564-410e-839c-f145b66b0716",
   "metadata": {},
   "outputs": [],
   "source": [
    "REGION_CSV = META_DIR / \"country_region.csv\"\n"
   ]
  },
  {
   "cell_type": "code",
   "execution_count": 5,
   "id": "0c9d11ca-bacf-4cd8-9719-474b28b1cdbc",
   "metadata": {},
   "outputs": [
    {
     "data": {
      "text/html": [
       "<div>\n",
       "<style scoped>\n",
       "    .dataframe tbody tr th:only-of-type {\n",
       "        vertical-align: middle;\n",
       "    }\n",
       "\n",
       "    .dataframe tbody tr th {\n",
       "        vertical-align: top;\n",
       "    }\n",
       "\n",
       "    .dataframe thead th {\n",
       "        text-align: right;\n",
       "    }\n",
       "</style>\n",
       "<table border=\"1\" class=\"dataframe\">\n",
       "  <thead>\n",
       "    <tr style=\"text-align: right;\">\n",
       "      <th></th>\n",
       "      <th>country</th>\n",
       "      <th>region</th>\n",
       "    </tr>\n",
       "  </thead>\n",
       "  <tbody>\n",
       "    <tr>\n",
       "      <th>0</th>\n",
       "      <td>United States</td>\n",
       "      <td>Americas</td>\n",
       "    </tr>\n",
       "    <tr>\n",
       "      <th>1</th>\n",
       "      <td>Canada</td>\n",
       "      <td>Americas</td>\n",
       "    </tr>\n",
       "    <tr>\n",
       "      <th>2</th>\n",
       "      <td>Mexico</td>\n",
       "      <td>Americas</td>\n",
       "    </tr>\n",
       "    <tr>\n",
       "      <th>3</th>\n",
       "      <td>Brazil</td>\n",
       "      <td>Americas</td>\n",
       "    </tr>\n",
       "    <tr>\n",
       "      <th>4</th>\n",
       "      <td>Argentina</td>\n",
       "      <td>Americas</td>\n",
       "    </tr>\n",
       "  </tbody>\n",
       "</table>\n",
       "</div>"
      ],
      "text/plain": [
       "         country    region\n",
       "0  United States  Americas\n",
       "1         Canada  Americas\n",
       "2         Mexico  Americas\n",
       "3         Brazil  Americas\n",
       "4      Argentina  Americas"
      ]
     },
     "execution_count": 5,
     "metadata": {},
     "output_type": "execute_result"
    }
   ],
   "source": [
    "map_df = pd.read_csv(REGION_CSV, sep=\",\").dropna()\n",
    "map_df.head()\n"
   ]
  },
  {
   "cell_type": "markdown",
   "id": "b6aafe72-818d-4b8d-9ffa-7a73bdb4f341",
   "metadata": {},
   "source": [
    "### Verify the parquet files"
   ]
  },
  {
   "cell_type": "code",
   "execution_count": 6,
   "id": "db9c818c-4cdc-433b-ae73-f4005a2158cb",
   "metadata": {},
   "outputs": [
    {
     "name": "stdout",
     "output_type": "stream",
     "text": [
      "/Users/vinothhaldorai/Documents/Vinoth/PROJECTS/forbes2000-explorer/data/parquet\n"
     ]
    }
   ],
   "source": [
    "PARQUET_DIR = None\n",
    "\n",
    "p = CWD.parent/ \"data\"/ \"parquet\"\n",
    "if p.exists():\n",
    "    PARQUET_DIR = p\n",
    "\n",
    "print(PARQUET_DIR)"
   ]
  },
  {
   "cell_type": "code",
   "execution_count": 7,
   "id": "52a2c80f-1218-4e04-8583-97a543a2e30c",
   "metadata": {},
   "outputs": [],
   "source": [
    "MASTER = PARQUET_DIR / \"companies_master.parquet\"\n",
    "TS     = PARQUET_DIR / \"companies_timeseries.parquet\"\n",
    "SLICE  = PARQUET_DIR / \"slice_stats.parquet\"\n",
    "TOPICS = PARQUET_DIR / \"slice_topics.parquet\""
   ]
  },
  {
   "cell_type": "markdown",
   "id": "9b35cbae-650e-448b-811d-936c326a8346",
   "metadata": {},
   "source": [
    "### Load Master & Peek"
   ]
  },
  {
   "cell_type": "code",
   "execution_count": 8,
   "id": "6fdc9358-4b9a-4d24-9bf6-56a4e50fdadb",
   "metadata": {},
   "outputs": [
    {
     "name": "stdout",
     "output_type": "stream",
     "text": [
      "Rows: 2000\n",
      "Columns (first 25): ['naturalId', 'name', 'year', 'month', 'uri', 'rank', 'listUri', 'visible', 'position', 'image', 'imageExists', 'embargo', 'description', 'company', 'state', 'timestamp', 'industry', 'country', 'revenue', 'profits', 'assets', 'marketValue', 'profitsRank', 'assetsRank', 'marketValueRank']\n"
     ]
    },
    {
     "data": {
      "text/html": [
       "<div>\n",
       "<style scoped>\n",
       "    .dataframe tbody tr th:only-of-type {\n",
       "        vertical-align: middle;\n",
       "    }\n",
       "\n",
       "    .dataframe tbody tr th {\n",
       "        vertical-align: top;\n",
       "    }\n",
       "\n",
       "    .dataframe thead th {\n",
       "        text-align: right;\n",
       "    }\n",
       "</style>\n",
       "<table border=\"1\" class=\"dataframe\">\n",
       "  <thead>\n",
       "    <tr style=\"text-align: right;\">\n",
       "      <th></th>\n",
       "      <th>naturalId</th>\n",
       "      <th>name</th>\n",
       "      <th>year</th>\n",
       "      <th>month</th>\n",
       "      <th>uri</th>\n",
       "      <th>rank</th>\n",
       "      <th>listUri</th>\n",
       "      <th>visible</th>\n",
       "      <th>position</th>\n",
       "      <th>image</th>\n",
       "      <th>...</th>\n",
       "      <th>clients</th>\n",
       "      <th>region</th>\n",
       "      <th>profit_margin</th>\n",
       "      <th>roa</th>\n",
       "      <th>asset_turnover</th>\n",
       "      <th>rev_per_emp</th>\n",
       "      <th>profit_per_emp</th>\n",
       "      <th>rev_cagr</th>\n",
       "      <th>profit_cagr</th>\n",
       "      <th>fund_score</th>\n",
       "    </tr>\n",
       "  </thead>\n",
       "  <tbody>\n",
       "    <tr>\n",
       "      <th>0</th>\n",
       "      <td>fred/companies/F2K/2025/2370</td>\n",
       "      <td>Global 2000</td>\n",
       "      <td>2025</td>\n",
       "      <td>6</td>\n",
       "      <td>jpmorganchase</td>\n",
       "      <td>1</td>\n",
       "      <td>global2000</td>\n",
       "      <td>True</td>\n",
       "      <td>1</td>\n",
       "      <td>http://images.forbes.com/media/lists/companies...</td>\n",
       "      <td>...</td>\n",
       "      <td>None</td>\n",
       "      <td>Americas</td>\n",
       "      <td>0.208196</td>\n",
       "      <td>0.013621</td>\n",
       "      <td>0.065423</td>\n",
       "      <td>0.898727</td>\n",
       "      <td>0.187112</td>\n",
       "      <td>-0.110008</td>\n",
       "      <td>-0.097627</td>\n",
       "      <td>60.474464</td>\n",
       "    </tr>\n",
       "    <tr>\n",
       "      <th>1</th>\n",
       "      <td>fred/companies/F2K/2025/595</td>\n",
       "      <td>Global 2000</td>\n",
       "      <td>2025</td>\n",
       "      <td>6</td>\n",
       "      <td>berkshire-hathaway</td>\n",
       "      <td>2</td>\n",
       "      <td>global2000</td>\n",
       "      <td>True</td>\n",
       "      <td>2</td>\n",
       "      <td>http://images.forbes.com/media/lists/companies...</td>\n",
       "      <td>...</td>\n",
       "      <td>None</td>\n",
       "      <td>Americas</td>\n",
       "      <td>0.239599</td>\n",
       "      <td>0.077127</td>\n",
       "      <td>0.321899</td>\n",
       "      <td>0.946567</td>\n",
       "      <td>0.226797</td>\n",
       "      <td>-0.060990</td>\n",
       "      <td>-0.135177</td>\n",
       "      <td>74.335680</td>\n",
       "    </tr>\n",
       "    <tr>\n",
       "      <th>2</th>\n",
       "      <td>fred/companies/F2K/2025/2176</td>\n",
       "      <td>Global 2000</td>\n",
       "      <td>2025</td>\n",
       "      <td>6</td>\n",
       "      <td>icbc</td>\n",
       "      <td>3</td>\n",
       "      <td>global2000</td>\n",
       "      <td>True</td>\n",
       "      <td>3</td>\n",
       "      <td>http://images.forbes.com/media/lists/companies...</td>\n",
       "      <td>...</td>\n",
       "      <td>None</td>\n",
       "      <td>APAC</td>\n",
       "      <td>0.229061</td>\n",
       "      <td>0.007601</td>\n",
       "      <td>0.033185</td>\n",
       "      <td>0.534646</td>\n",
       "      <td>0.122467</td>\n",
       "      <td>-0.028519</td>\n",
       "      <td>-0.015536</td>\n",
       "      <td>61.537626</td>\n",
       "    </tr>\n",
       "  </tbody>\n",
       "</table>\n",
       "<p>3 rows × 66 columns</p>\n",
       "</div>"
      ],
      "text/plain": [
       "                      naturalId         name  year  month                 uri  \\\n",
       "0  fred/companies/F2K/2025/2370  Global 2000  2025      6       jpmorganchase   \n",
       "1   fred/companies/F2K/2025/595  Global 2000  2025      6  berkshire-hathaway   \n",
       "2  fred/companies/F2K/2025/2176  Global 2000  2025      6                icbc   \n",
       "\n",
       "   rank     listUri  visible  position  \\\n",
       "0     1  global2000     True         1   \n",
       "1     2  global2000     True         2   \n",
       "2     3  global2000     True         3   \n",
       "\n",
       "                                               image  ...  clients    region  \\\n",
       "0  http://images.forbes.com/media/lists/companies...  ...     None  Americas   \n",
       "1  http://images.forbes.com/media/lists/companies...  ...     None  Americas   \n",
       "2  http://images.forbes.com/media/lists/companies...  ...     None      APAC   \n",
       "\n",
       "  profit_margin       roa asset_turnover  rev_per_emp profit_per_emp  \\\n",
       "0      0.208196  0.013621       0.065423     0.898727       0.187112   \n",
       "1      0.239599  0.077127       0.321899     0.946567       0.226797   \n",
       "2      0.229061  0.007601       0.033185     0.534646       0.122467   \n",
       "\n",
       "   rev_cagr  profit_cagr  fund_score  \n",
       "0 -0.110008    -0.097627   60.474464  \n",
       "1 -0.060990    -0.135177   74.335680  \n",
       "2 -0.028519    -0.015536   61.537626  \n",
       "\n",
       "[3 rows x 66 columns]"
      ]
     },
     "execution_count": 8,
     "metadata": {},
     "output_type": "execute_result"
    }
   ],
   "source": [
    "m = pd.read_parquet(MASTER)\n",
    "print(\"Rows:\", len(m))\n",
    "print(\"Columns (first 25):\", list(m.columns)[:25])\n",
    "m.head(3)\n"
   ]
  },
  {
   "cell_type": "code",
   "execution_count": 9,
   "id": "ee0ced19-325c-420a-8475-c6f4221c4cc5",
   "metadata": {},
   "outputs": [
    {
     "data": {
      "text/plain": [
       "<StringArray>\n",
       "[       'United States',                'China',         'Saudi Arabia',\n",
       "                'Japan',       'United Kingdom',          'South Korea',\n",
       "              'Germany',               'Canada',                'Spain',\n",
       "            'Hong Kong',               'France',               'Taiwan',\n",
       "                'India',          'Switzerland',                'Italy',\n",
       "            'Australia',               'Brazil',              'Belgium',\n",
       "               'Norway',            'Singapore',              'Ireland',\n",
       "              'Denmark',          'Netherlands',              'Finland',\n",
       "                'Qatar', 'United Arab Emirates',               'Sweden',\n",
       "              'Austria',             'Thailand',               'Mexico',\n",
       "            'Indonesia',               'Poland',              'Bermuda',\n",
       "           'Luxembourg',             'Colombia',             'Malaysia',\n",
       "               'Kuwait',         'South Africa',               'Israel',\n",
       "            'Argentina',              'Hungary',       'Cayman Islands',\n",
       "               'Turkey',       'Czech Republic',             'Portugal',\n",
       "                 'Peru',          'Philippines',              'Vietnam',\n",
       "               'Greece',              'Morocco',                'Chile',\n",
       "           'Kazakhstan',              'Romania',               'Jordan',\n",
       "                'Egypt',               'Panama',                 'Oman',\n",
       "              'Lebanon',             'Slovenia',              'Bahrain',\n",
       "               'Cyprus']\n",
       "Length: 61, dtype: string"
      ]
     },
     "execution_count": 9,
     "metadata": {},
     "output_type": "execute_result"
    }
   ],
   "source": [
    "m[\"country\"].unique()"
   ]
  },
  {
   "cell_type": "code",
   "execution_count": 10,
   "id": "72f65ab7-3e76-470e-96d7-39bde66c3c77",
   "metadata": {},
   "outputs": [
    {
     "data": {
      "text/plain": [
       "<StringArray>\n",
       "['Americas', 'APAC', 'MEA/Other', 'Europe']\n",
       "Length: 4, dtype: string"
      ]
     },
     "execution_count": 10,
     "metadata": {},
     "output_type": "execute_result"
    }
   ],
   "source": [
    "m[\"region\"].unique()"
   ]
  },
  {
   "cell_type": "code",
   "execution_count": 11,
   "id": "cc72a3e5-8c40-48aa-a5af-472420e5992d",
   "metadata": {},
   "outputs": [
    {
     "data": {
      "text/plain": [
       "Index(['naturalId', 'name', 'year', 'month', 'uri', 'rank', 'listUri',\n",
       "       'visible', 'position', 'image', 'imageExists', 'embargo', 'description',\n",
       "       'company', 'state', 'timestamp', 'industry', 'country', 'revenue',\n",
       "       'profits', 'assets', 'marketValue', 'profitsRank', 'assetsRank',\n",
       "       'marketValueRank', 'employees', 'revenueRank', 'ceo', 'ceoTitle',\n",
       "       'revenueList', 'assetsList', 'profitList', 'employeesList', 'footNotes',\n",
       "       'date', 'city', 'csfDisplayFields', 'yearFounded', 'website',\n",
       "       'industryLeader', 'organization.name', 'organization.uri',\n",
       "       'organization.imageExists', 'organization.image', 'squareImage',\n",
       "       'portraitImage', 'landscapeImage', 'organization.squareImage',\n",
       "       'premiumProfile', 'altDescription', 'parentCompany.naturalId',\n",
       "       'parentCompany.name', 'parentCompany.uri', 'csoName', 'csoTitle',\n",
       "       'ceoCompensations', 'clients', 'region', 'profit_margin', 'roa',\n",
       "       'asset_turnover', 'rev_per_emp', 'profit_per_emp', 'rev_cagr',\n",
       "       'profit_cagr', 'fund_score'],\n",
       "      dtype='object')"
      ]
     },
     "execution_count": 11,
     "metadata": {},
     "output_type": "execute_result"
    }
   ],
   "source": [
    "m.columns"
   ]
  },
  {
   "cell_type": "markdown",
   "id": "8d583330-4ee7-4f08-9fad-468d47a41615",
   "metadata": {},
   "source": [
    "### Required columns & dtypes"
   ]
  },
  {
   "cell_type": "code",
   "execution_count": 12,
   "id": "fd07db9c-fac0-4360-9523-742c0f07d7e5",
   "metadata": {},
   "outputs": [
    {
     "name": "stdout",
     "output_type": "stream",
     "text": [
      "Missing required columns: []\n"
     ]
    },
    {
     "data": {
      "text/plain": [
       "altDescription              object\n",
       "asset_turnover             float64\n",
       "assets                     float64\n",
       "assetsList                  object\n",
       "assetsRank                 float64\n",
       "ceo                 string[python]\n",
       "ceoCompensations           float64\n",
       "ceoTitle            string[python]\n",
       "city                string[python]\n",
       "clients                     object\n",
       "company             string[python]\n",
       "country             string[python]\n",
       "csfDisplayFields            object\n",
       "csoName                     object\n",
       "csoTitle                    object\n",
       "date                         int64\n",
       "description         string[python]\n",
       "embargo                       bool\n",
       "employees                  float64\n",
       "employeesList               object\n",
       "footNotes                   object\n",
       "fund_score                 float64\n",
       "image                       object\n",
       "imageExists                   bool\n",
       "industry            string[python]\n",
       "industryLeader                bool\n",
       "landscapeImage              object\n",
       "listUri                     object\n",
       "marketValue                float64\n",
       "marketValueRank            float64\n",
       "dtype: object"
      ]
     },
     "execution_count": 12,
     "metadata": {},
     "output_type": "execute_result"
    }
   ],
   "source": [
    "required = {\n",
    "    \"naturalId\",\"company\",\"industry\",\"country\",\"region\",\n",
    "    \"revenue\",\"profits\",\"assets\",\"marketValue\",\"employees\",\n",
    "    \"description\",\"website\"\n",
    "}\n",
    "missing = sorted(required - set(m.columns))\n",
    "print(\"Missing required columns:\", missing)\n",
    "\n",
    "m.dtypes.sort_index().head(30)\n"
   ]
  },
  {
   "cell_type": "markdown",
   "id": "622d26d0-62a3-4b96-ae8c-73eb618966c6",
   "metadata": {},
   "source": [
    "### Null counts for key fields"
   ]
  },
  {
   "cell_type": "code",
   "execution_count": 13,
   "id": "15ddacff-a60c-4b5b-ac52-112728984e05",
   "metadata": {},
   "outputs": [
    {
     "data": {
      "text/plain": [
       "profit_cagr       327\n",
       "employees         203\n",
       "rev_cagr           24\n",
       "profit_margin       1\n",
       "company             0\n",
       "industry            0\n",
       "country             0\n",
       "region              0\n",
       "revenue             0\n",
       "profits             0\n",
       "assets              0\n",
       "marketValue         0\n",
       "roa                 0\n",
       "asset_turnover      0\n",
       "dtype: int64"
      ]
     },
     "execution_count": 13,
     "metadata": {},
     "output_type": "execute_result"
    }
   ],
   "source": [
    "key_cols = [\n",
    "    \"company\",\"industry\",\"country\",\"region\",\n",
    "    \"revenue\",\"profits\",\"assets\",\"marketValue\",\"employees\",\n",
    "    \"profit_margin\",\"roa\",\"asset_turnover\",\"rev_cagr\",\"profit_cagr\",\n",
    "]\n",
    "present = [c for c in key_cols if c in m.columns]\n",
    "m[present].isna().sum().sort_values(ascending=False)\n"
   ]
  },
  {
   "cell_type": "markdown",
   "id": "4094721b-8d2a-4223-aa62-aeddbe911b9f",
   "metadata": {},
   "source": [
    "### KPI Ranges (quick sanity)"
   ]
  },
  {
   "cell_type": "code",
   "execution_count": 14,
   "id": "b3700228-b3bb-4a30-8a0b-385ddda2c286",
   "metadata": {},
   "outputs": [
    {
     "data": {
      "text/html": [
       "<div>\n",
       "<style scoped>\n",
       "    .dataframe tbody tr th:only-of-type {\n",
       "        vertical-align: middle;\n",
       "    }\n",
       "\n",
       "    .dataframe tbody tr th {\n",
       "        vertical-align: top;\n",
       "    }\n",
       "\n",
       "    .dataframe thead th {\n",
       "        text-align: right;\n",
       "    }\n",
       "</style>\n",
       "<table border=\"1\" class=\"dataframe\">\n",
       "  <thead>\n",
       "    <tr style=\"text-align: right;\">\n",
       "      <th></th>\n",
       "      <th>count</th>\n",
       "      <th>min</th>\n",
       "      <th>p5</th>\n",
       "      <th>median</th>\n",
       "      <th>p95</th>\n",
       "      <th>max</th>\n",
       "    </tr>\n",
       "  </thead>\n",
       "  <tbody>\n",
       "    <tr>\n",
       "      <th>profit_margin</th>\n",
       "      <td>1999.0</td>\n",
       "      <td>-2.519870</td>\n",
       "      <td>-0.007811</td>\n",
       "      <td>0.100563</td>\n",
       "      <td>0.355061</td>\n",
       "      <td>15.267460</td>\n",
       "    </tr>\n",
       "    <tr>\n",
       "      <th>roa</th>\n",
       "      <td>2000.0</td>\n",
       "      <td>-0.486715</td>\n",
       "      <td>-0.005039</td>\n",
       "      <td>0.032650</td>\n",
       "      <td>0.172690</td>\n",
       "      <td>9.323757</td>\n",
       "    </tr>\n",
       "    <tr>\n",
       "      <th>asset_turnover</th>\n",
       "      <td>2000.0</td>\n",
       "      <td>-0.482601</td>\n",
       "      <td>0.037751</td>\n",
       "      <td>0.463389</td>\n",
       "      <td>1.809040</td>\n",
       "      <td>12.336229</td>\n",
       "    </tr>\n",
       "    <tr>\n",
       "      <th>rev_cagr</th>\n",
       "      <td>1976.0</td>\n",
       "      <td>-0.707058</td>\n",
       "      <td>-0.246729</td>\n",
       "      <td>-0.060318</td>\n",
       "      <td>0.028230</td>\n",
       "      <td>1.022321</td>\n",
       "    </tr>\n",
       "    <tr>\n",
       "      <th>profit_cagr</th>\n",
       "      <td>1673.0</td>\n",
       "      <td>-0.930724</td>\n",
       "      <td>-0.363750</td>\n",
       "      <td>-0.078183</td>\n",
       "      <td>0.148405</td>\n",
       "      <td>24.666667</td>\n",
       "    </tr>\n",
       "  </tbody>\n",
       "</table>\n",
       "</div>"
      ],
      "text/plain": [
       "                 count       min        p5    median       p95        max\n",
       "profit_margin   1999.0 -2.519870 -0.007811  0.100563  0.355061  15.267460\n",
       "roa             2000.0 -0.486715 -0.005039  0.032650  0.172690   9.323757\n",
       "asset_turnover  2000.0 -0.482601  0.037751  0.463389  1.809040  12.336229\n",
       "rev_cagr        1976.0 -0.707058 -0.246729 -0.060318  0.028230   1.022321\n",
       "profit_cagr     1673.0 -0.930724 -0.363750 -0.078183  0.148405  24.666667"
      ]
     },
     "execution_count": 14,
     "metadata": {},
     "output_type": "execute_result"
    }
   ],
   "source": [
    "def kpi_summary(df, cols):\n",
    "    out = {}\n",
    "    for c in cols:\n",
    "        if c in df.columns:\n",
    "            s = pd.to_numeric(df[c], errors=\"coerce\").dropna()\n",
    "            out[c] = {\n",
    "                \"count\": int(s.size),\n",
    "                \"min\": float(s.min()) if s.size else None,\n",
    "                \"p5\": float(s.quantile(0.05)) if s.size else None,\n",
    "                \"median\": float(s.median()) if s.size else None,\n",
    "                \"p95\": float(s.quantile(0.95)) if s.size else None,\n",
    "                \"max\": float(s.max()) if s.size else None,\n",
    "            }\n",
    "    return pd.DataFrame(out).T\n",
    "\n",
    "kpi_summary(m, [\"profit_margin\",\"roa\",\"asset_turnover\",\"rev_cagr\",\"profit_cagr\"])\n"
   ]
  },
  {
   "cell_type": "markdown",
   "id": "81cff349-8d15-431f-8174-e6f1ea502ceb",
   "metadata": {},
   "source": [
    "### Region tagging & year distribution"
   ]
  },
  {
   "cell_type": "code",
   "execution_count": 15,
   "id": "ac67b890-1e24-4066-b3b0-8d037222acd8",
   "metadata": {},
   "outputs": [
    {
     "name": "stdout",
     "output_type": "stream",
     "text": [
      "Region counts:\n",
      "region\n",
      "APAC         767\n",
      "Americas     738\n",
      "Europe       419\n",
      "MEA/Other     76\n",
      "Name: count, dtype: Int64\n",
      "\n",
      "Year distribution:\n",
      "year\n",
      "2025    2000\n",
      "Name: count, dtype: int64\n"
     ]
    }
   ],
   "source": [
    "print(\"Region counts:\")\n",
    "print(m[\"region\"].value_counts(dropna=False))\n",
    "\n",
    "if \"year\" in m.columns:\n",
    "    print(\"\\nYear distribution:\")\n",
    "    print(m[\"year\"].value_counts(dropna=False).sort_index())\n",
    "else:\n",
    "    print(\"\\nNo 'year' column present (ok if source omitted it).\")\n"
   ]
  },
  {
   "cell_type": "markdown",
   "id": "754a4860-e29d-4270-922f-285115c64f86",
   "metadata": {},
   "source": [
    "### URL normalization checks"
   ]
  },
  {
   "cell_type": "code",
   "execution_count": 16,
   "id": "7998f987-fa7f-40c7-8b69-7bb2f86c5f20",
   "metadata": {},
   "outputs": [
    {
     "data": {
      "text/plain": [
       "website                     0\n",
       "image                       0\n",
       "squareImage                 0\n",
       "portraitImage               0\n",
       "landscapeImage              0\n",
       "organization.image          0\n",
       "organization.squareImage    0\n",
       "Name: not http(s), dtype: int64"
      ]
     },
     "execution_count": 16,
     "metadata": {},
     "output_type": "execute_result"
    }
   ],
   "source": [
    "url_cols = [c for c in [\n",
    "    \"website\",\"image\",\"squareImage\",\"portraitImage\",\"landscapeImage\",\n",
    "    \"organization.image\",\"organization.squareImage\"\n",
    "] if c in m.columns]\n",
    "\n",
    "def is_bad_url(x):\n",
    "    if not isinstance(x, str) or not x:\n",
    "        return False\n",
    "    return not (x.startswith(\"http://\") or x.startswith(\"https://\"))\n",
    "\n",
    "issues = {}\n",
    "for col in url_cols:\n",
    "    s = m[col].dropna().astype(str)\n",
    "    issues[col] = int(s.apply(is_bad_url).sum())\n",
    "\n",
    "pd.Series(issues, name=\"not http(s)\").sort_values(ascending=False)\n"
   ]
  },
  {
   "cell_type": "markdown",
   "id": "bedb318c-beae-4c60-b440-5cd01c0bd56e",
   "metadata": {},
   "source": [
    "### Load timeseries & validate schema"
   ]
  },
  {
   "cell_type": "code",
   "execution_count": 17,
   "id": "b7f477b8-4539-4ba9-a59b-81be5d7076fe",
   "metadata": {},
   "outputs": [
    {
     "data": {
      "text/html": [
       "<div>\n",
       "<style scoped>\n",
       "    .dataframe tbody tr th:only-of-type {\n",
       "        vertical-align: middle;\n",
       "    }\n",
       "\n",
       "    .dataframe tbody tr th {\n",
       "        vertical-align: top;\n",
       "    }\n",
       "\n",
       "    .dataframe thead th {\n",
       "        text-align: right;\n",
       "    }\n",
       "</style>\n",
       "<table border=\"1\" class=\"dataframe\">\n",
       "  <thead>\n",
       "    <tr style=\"text-align: right;\">\n",
       "      <th></th>\n",
       "      <th>naturalId</th>\n",
       "      <th>metric</th>\n",
       "      <th>t_index</th>\n",
       "      <th>value</th>\n",
       "    </tr>\n",
       "  </thead>\n",
       "  <tbody>\n",
       "    <tr>\n",
       "      <th>0</th>\n",
       "      <td>fred/companies/F2K/2025/2370</td>\n",
       "      <td>revenue</td>\n",
       "      <td>0</td>\n",
       "      <td>285106.0</td>\n",
       "    </tr>\n",
       "    <tr>\n",
       "      <th>1</th>\n",
       "      <td>fred/companies/F2K/2025/2370</td>\n",
       "      <td>revenue</td>\n",
       "      <td>1</td>\n",
       "      <td>252912.0</td>\n",
       "    </tr>\n",
       "    <tr>\n",
       "      <th>2</th>\n",
       "      <td>fred/companies/F2K/2025/2370</td>\n",
       "      <td>revenue</td>\n",
       "      <td>2</td>\n",
       "      <td>179933.0</td>\n",
       "    </tr>\n",
       "    <tr>\n",
       "      <th>3</th>\n",
       "      <td>fred/companies/F2K/2025/2370</td>\n",
       "      <td>revenue</td>\n",
       "      <td>3</td>\n",
       "      <td>124542.0</td>\n",
       "    </tr>\n",
       "    <tr>\n",
       "      <th>4</th>\n",
       "      <td>fred/companies/F2K/2025/2370</td>\n",
       "      <td>revenue</td>\n",
       "      <td>4</td>\n",
       "      <td>136187.0</td>\n",
       "    </tr>\n",
       "  </tbody>\n",
       "</table>\n",
       "</div>"
      ],
      "text/plain": [
       "                      naturalId   metric  t_index     value\n",
       "0  fred/companies/F2K/2025/2370  revenue        0  285106.0\n",
       "1  fred/companies/F2K/2025/2370  revenue        1  252912.0\n",
       "2  fred/companies/F2K/2025/2370  revenue        2  179933.0\n",
       "3  fred/companies/F2K/2025/2370  revenue        3  124542.0\n",
       "4  fred/companies/F2K/2025/2370  revenue        4  136187.0"
      ]
     },
     "execution_count": 17,
     "metadata": {},
     "output_type": "execute_result"
    }
   ],
   "source": [
    "# Diagnose what's inside your master parquet for the \"List\" columns\n",
    "ts = pd.read_parquet(TS)\n",
    "ts.head()"
   ]
  },
  {
   "cell_type": "code",
   "execution_count": 21,
   "id": "647b36af-8394-4934-87ea-240f6cfadf44",
   "metadata": {},
   "outputs": [
    {
     "data": {
      "text/html": [
       "<div>\n",
       "<style scoped>\n",
       "    .dataframe tbody tr th:only-of-type {\n",
       "        vertical-align: middle;\n",
       "    }\n",
       "\n",
       "    .dataframe tbody tr th {\n",
       "        vertical-align: top;\n",
       "    }\n",
       "\n",
       "    .dataframe thead th {\n",
       "        text-align: right;\n",
       "    }\n",
       "</style>\n",
       "<table border=\"1\" class=\"dataframe\">\n",
       "  <thead>\n",
       "    <tr style=\"text-align: right;\">\n",
       "      <th></th>\n",
       "      <th>naturalId</th>\n",
       "      <th>metric</th>\n",
       "      <th>t_index</th>\n",
       "      <th>value</th>\n",
       "    </tr>\n",
       "  </thead>\n",
       "  <tbody>\n",
       "    <tr>\n",
       "      <th>0</th>\n",
       "      <td>fred/companies/F2K/2025/2370</td>\n",
       "      <td>revenue</td>\n",
       "      <td>0</td>\n",
       "      <td>285106.0</td>\n",
       "    </tr>\n",
       "    <tr>\n",
       "      <th>1</th>\n",
       "      <td>fred/companies/F2K/2025/2370</td>\n",
       "      <td>revenue</td>\n",
       "      <td>1</td>\n",
       "      <td>252912.0</td>\n",
       "    </tr>\n",
       "    <tr>\n",
       "      <th>2</th>\n",
       "      <td>fred/companies/F2K/2025/2370</td>\n",
       "      <td>revenue</td>\n",
       "      <td>2</td>\n",
       "      <td>179933.0</td>\n",
       "    </tr>\n",
       "    <tr>\n",
       "      <th>3</th>\n",
       "      <td>fred/companies/F2K/2025/2370</td>\n",
       "      <td>revenue</td>\n",
       "      <td>3</td>\n",
       "      <td>124542.0</td>\n",
       "    </tr>\n",
       "    <tr>\n",
       "      <th>4</th>\n",
       "      <td>fred/companies/F2K/2025/2370</td>\n",
       "      <td>revenue</td>\n",
       "      <td>4</td>\n",
       "      <td>136187.0</td>\n",
       "    </tr>\n",
       "    <tr>\n",
       "      <th>5</th>\n",
       "      <td>fred/companies/F2K/2025/2370</td>\n",
       "      <td>revenue</td>\n",
       "      <td>5</td>\n",
       "      <td>142927.0</td>\n",
       "    </tr>\n",
       "    <tr>\n",
       "      <th>6</th>\n",
       "      <td>fred/companies/F2K/2025/2370</td>\n",
       "      <td>revenue</td>\n",
       "      <td>6</td>\n",
       "      <td>132912.0</td>\n",
       "    </tr>\n",
       "    <tr>\n",
       "      <th>7</th>\n",
       "      <td>fred/companies/F2K/2025/2370</td>\n",
       "      <td>revenue</td>\n",
       "      <td>7</td>\n",
       "      <td>118180.0</td>\n",
       "    </tr>\n",
       "    <tr>\n",
       "      <th>8</th>\n",
       "      <td>fred/companies/F2K/2025/2370</td>\n",
       "      <td>revenue</td>\n",
       "      <td>8</td>\n",
       "      <td>102494.0</td>\n",
       "    </tr>\n",
       "    <tr>\n",
       "      <th>9</th>\n",
       "      <td>fred/companies/F2K/2025/2370</td>\n",
       "      <td>revenue</td>\n",
       "      <td>9</td>\n",
       "      <td>99881.0</td>\n",
       "    </tr>\n",
       "  </tbody>\n",
       "</table>\n",
       "</div>"
      ],
      "text/plain": [
       "                      naturalId   metric  t_index     value\n",
       "0  fred/companies/F2K/2025/2370  revenue        0  285106.0\n",
       "1  fred/companies/F2K/2025/2370  revenue        1  252912.0\n",
       "2  fred/companies/F2K/2025/2370  revenue        2  179933.0\n",
       "3  fred/companies/F2K/2025/2370  revenue        3  124542.0\n",
       "4  fred/companies/F2K/2025/2370  revenue        4  136187.0\n",
       "5  fred/companies/F2K/2025/2370  revenue        5  142927.0\n",
       "6  fred/companies/F2K/2025/2370  revenue        6  132912.0\n",
       "7  fred/companies/F2K/2025/2370  revenue        7  118180.0\n",
       "8  fred/companies/F2K/2025/2370  revenue        8  102494.0\n",
       "9  fred/companies/F2K/2025/2370  revenue        9   99881.0"
      ]
     },
     "execution_count": 21,
     "metadata": {},
     "output_type": "execute_result"
    }
   ],
   "source": [
    "# rows count\n",
    "len(ts)\n",
    "\n",
    "# how many points per company × metric\n",
    "ts.groupby([\"naturalId\",\"metric\"]).size().sort_values(ascending=False).head(10)\n",
    "\n",
    "# inspect one company’s revenue series\n",
    "nid = \"fred/companies/F2K/2025/2370\"\n",
    "ts[(ts[\"naturalId\"]==nid) & (ts[\"metric\"]==\"revenue\")].sort_values(\"t_index\")\n"
   ]
  },
  {
   "cell_type": "markdown",
   "id": "d3ba0947-d96e-4467-94fd-2e4b6167a2d8",
   "metadata": {},
   "source": [
    "### Pick a company with history & plot a sparkline"
   ]
  },
  {
   "cell_type": "code",
   "execution_count": 22,
   "id": "aa1dd2e3-b726-46e0-83a0-8b6b5e899708",
   "metadata": {},
   "outputs": [
    {
     "data": {
      "image/png": "[encoded data removed]",
      "text/plain": [
       "<Figure size 600x300 with 1 Axes>"
      ]
     },
     "metadata": {},
     "output_type": "display_data"
    }
   ],
   "source": [
    "if ts is None or ts.empty:\n",
    "    print(\"No timeseries to plot.\")\n",
    "else:\n",
    "    # Find a company with revenue history\n",
    "    g = ts[ts[\"metric\"]==\"revenue\"].dropna(subset=[\"value\"]).groupby(\"naturalId\")[\"value\"].count()\n",
    "    if g.empty:\n",
    "        print(\"No companies with revenue history found.\")\n",
    "    else:\n",
    "        nid = g.sort_values(ascending=False).index[0]\n",
    "        name = m.loc[m[\"naturalId\"]==nid, \"company\"].astype(str).iloc[0] if (m[\"naturalId\"]==nid).any() else str(nid)\n",
    "        sub = ts[(ts[\"naturalId\"]==nid) & (ts[\"metric\"]==\"revenue\")].sort_values(\"t_index\")\n",
    "        plt.figure(figsize=(6,3))\n",
    "        plt.plot(sub[\"t_index\"], sub[\"value\"])  # no specific colors/styles\n",
    "        plt.title(f\"Revenue (last 10) — {name}\")\n",
    "        plt.xlabel(\"t_index (0..9)\")\n",
    "        plt.ylabel(\"USD\")\n",
    "        plt.grid(True, alpha=0.3)\n",
    "        plt.show()\n"
   ]
  },
  {
   "cell_type": "markdown",
   "id": "07a98447-aa6b-4add-8b5d-8b8a2ac78a8f",
   "metadata": {},
   "source": [
    "### Cross-check: timeseries naturalID"
   ]
  },
  {
   "cell_type": "code",
   "execution_count": 23,
   "id": "45dce248-dca1-47d2-bdb0-e92cc1affdb8",
   "metadata": {},
   "outputs": [
    {
     "name": "stdout",
     "output_type": "stream",
     "text": [
      "naturalId present in ts but missing in master: 0\n"
     ]
    }
   ],
   "source": [
    "if ts is not None and not ts.empty:\n",
    "    master_ids = set(m[\"naturalId\"].astype(str))\n",
    "    ts_ids = set(ts[\"naturalId\"].astype(str))\n",
    "    missing_in_master = sorted(ts_ids - master_ids)\n",
    "    print(\"naturalId present in ts but missing in master:\", len(missing_in_master))\n",
    "    if missing_in_master:\n",
    "        pd.Series(missing_in_master).head(20)\n",
    "else:\n",
    "    print(\"Timeseries absent or empty; skipping cross-check.\")\n"
   ]
  },
  {
   "cell_type": "markdown",
   "id": "73e907f4-1545-4876-b99d-f7850f758fe9",
   "metadata": {},
   "source": [
    "### Slice stats & topics quick peek"
   ]
  },
  {
   "cell_type": "code",
   "execution_count": 24,
   "id": "adc75830-7666-42f5-8109-1aef83381eef",
   "metadata": {},
   "outputs": [
    {
     "name": "stdout",
     "output_type": "stream",
     "text": [
      "slice_stats rows: 101\n",
      "slice_topics rows: 101\n"
     ]
    }
   ],
   "source": [
    "if SLICE.exists():\n",
    "    s = pd.read_parquet(SLICE)\n",
    "    print(\"slice_stats rows:\", len(s))\n",
    "    s.head()\n",
    "else:\n",
    "    print(\"slice_stats not found — run scripts/02_enrich_and_split.py\")\n",
    "\n",
    "if TOPICS.exists():\n",
    "    t = pd.read_parquet(TOPICS)\n",
    "    print(\"slice_topics rows:\", len(t))\n",
    "    t.head()\n",
    "else:\n",
    "    print(\"slice_topics not found — run scripts/02_enrich_and_split.py\")\n"
   ]
  },
  {
   "cell_type": "markdown",
   "id": "be976ec4-58dc-4974-bcbb-b252190299fb",
   "metadata": {},
   "source": [
    "### Optional CSV snapshots (for manual inspection)"
   ]
  },
  {
   "cell_type": "code",
   "execution_count": 25,
   "id": "a15d0cb1-19bc-4cb1-baee-013f4efbecca",
   "metadata": {},
   "outputs": [
    {
     "name": "stdout",
     "output_type": "stream",
     "text": [
      "Saved CSV snapshots to: /Users/vinothhaldorai/Documents/Vinoth/PROJECTS/forbes2000-explorer/data/snapshots\n"
     ]
    }
   ],
   "source": [
    "SNAP_DIR = PARQUET_DIR.parent / \"snapshots\"\n",
    "SNAP_DIR.mkdir(parents=True, exist_ok=True)\n",
    "\n",
    "m.head(100).to_csv(SNAP_DIR / \"master_head100.csv\", index=False)\n",
    "if ts is not None and not ts.empty:\n",
    "    ts.head(1000).to_csv(SNAP_DIR / \"timeseries_head1000.csv\", index=False)\n",
    "if SLICE.exists():\n",
    "    pd.read_parquet(SLICE).head(200).to_csv(SNAP_DIR / \"slice_stats_head200.csv\", index=False)\n",
    "if TOPICS.exists():\n",
    "    pd.read_parquet(TOPICS).head(200).to_csv(SNAP_DIR / \"slice_topics_head200.csv\", index=False)\n",
    "\n",
    "print(\"Saved CSV snapshots to:\", SNAP_DIR)\n"
   ]
  },
  {
   "cell_type": "code",
   "execution_count": null,
   "id": "d01c98e7-4f73-4da8-b4ee-31f5f812864a",
   "metadata": {},
   "outputs": [],
   "source": []
  }
 ],
 "metadata": {
  "kernelspec": {
   "display_name": "Python 3 (ipykernel)",
   "language": "python",
   "name": "python3"
  },
  "language_info": {
   "codemirror_mode": {
    "name": "ipython",
    "version": 3
   },
   "file_extension": ".py",
   "mimetype": "text/x-python",
   "name": "python",
   "nbconvert_exporter": "python",
   "pygments_lexer": "ipython3",
   "version": "3.12.11"
  }
 },
 "nbformat": 4,
 "nbformat_minor": 5
}
